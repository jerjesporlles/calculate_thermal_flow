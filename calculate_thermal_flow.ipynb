{
 "cells": [
  {
   "cell_type": "code",
   "execution_count": null,
   "id": "80065d57-5ffd-4673-88d0-2f721818a6c7",
   "metadata": {},
   "outputs": [],
   "source": [
    "# Thermal flow calculator using Fourier's Law\n",
    "\n",
    "def calculate_thermal_flow(k, A, T1, T2, L):\n",
    "    \"\"\"\n",
    "    Calculate the heat transfer rate (q) using Fourier's Law.\n",
    "\n",
    "    Parameters:\n",
    "    - k : thermal conductivity (W/m·K)\n",
    "    - A : cross-sectional area (m²)\n",
    "    - T1: temperature at one end (°C or K)\n",
    "    - T2: temperature at the other end (°C or K)\n",
    "    - L : length or thickness of material (m)\n",
    "\n",
    "    Returns:\n",
    "    - Heat transfer rate q (W)\n",
    "    \"\"\"\n",
    "    dT_dx = (T2 - T1) / L\n",
    "    q = -k * A * dT_dx\n",
    "    return q\n",
    "\n",
    "# Example values\n",
    "thermal_conductivity = 205  # W/m·K for aluminum\n",
    "area = 0.01  # m²\n",
    "T_hot = 100  # °C\n",
    "T_cold = 25  # °C\n",
    "length = 0.05  # m\n",
    "\n",
    "q = calculate_thermal_flow(thermal_conductivity, area, T_hot, T_cold, length)\n",
    "print(f\"Heat transfer rate: {q:.2f} W\")\n"
   ]
  }
 ],
 "metadata": {
  "kernelspec": {
   "display_name": "Python [conda env:base] *",
   "language": "python",
   "name": "conda-base-py"
  },
  "language_info": {
   "codemirror_mode": {
    "name": "ipython",
    "version": 3
   },
   "file_extension": ".py",
   "mimetype": "text/x-python",
   "name": "python",
   "nbconvert_exporter": "python",
   "pygments_lexer": "ipython3",
   "version": "3.12.7"
  }
 },
 "nbformat": 4,
 "nbformat_minor": 5
}
